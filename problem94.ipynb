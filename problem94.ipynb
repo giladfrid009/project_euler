{
 "cells": [
  {
   "cell_type": "code",
   "execution_count": 4,
   "metadata": {},
   "outputs": [],
   "source": [
    "from typing import Tuple, List, Dict\n",
    "from tqdm import tqdm"
   ]
  },
  {
   "cell_type": "code",
   "execution_count": 5,
   "metadata": {},
   "outputs": [],
   "source": [
    "def calc_squares(max_val: int) -> set:\n",
    "    squares = set()\n",
    "    for x in tqdm(range(max_val), desc=\"calculating squares\"):\n",
    "        squares.add(int(x * x))\n",
    "\n",
    "    return squares"
   ]
  },
  {
   "cell_type": "code",
   "execution_count": 12,
   "metadata": {},
   "outputs": [
    {
     "name": "stderr",
     "output_type": "stream",
     "text": [
      "calculating squares: 100%|██████████| 31622/31622 [00:00<00:00, 1589571.80it/s]\n",
      "running: 100%|██████████| 31622/31622 [00:00<00:00, 1604823.96it/s]"
     ]
    },
    {
     "name": "stdout",
     "output_type": "stream",
     "text": [
      "109552576\n"
     ]
    },
    {
     "name": "stderr",
     "output_type": "stream",
     "text": [
      "\n"
     ]
    }
   ],
   "source": [
    "import math\n",
    "\n",
    "squares = calc_squares(int(math.sqrt((1e9 + 1) // 3)))\n",
    "\n",
    "perim_sum = 0\n",
    "\n",
    "for t in tqdm(squares, desc=\"running\"):\n",
    "    # first triangle\n",
    "    x = t - 1\n",
    "\n",
    "    if x % 2 == 0:\n",
    "        continue\n",
    "    \n",
    "    if (3 * t - 4) in squares:\n",
    "        perim = 3 * x + 1\n",
    "        assert perim <= 1e9\n",
    "        perim_sum += perim\n",
    "\n",
    "    # second triangle\n",
    "    x = t + 1\n",
    "    if (3 * t + 4) in squares:\n",
    "        perim = 3 * x - 1\n",
    "        assert perim <= 1e9\n",
    "        perim_sum += perim\n",
    "\n",
    "print(perim_sum)"
   ]
  }
 ],
 "metadata": {
  "kernelspec": {
   "display_name": "Python 3",
   "language": "python",
   "name": "python3"
  },
  "language_info": {
   "codemirror_mode": {
    "name": "ipython",
    "version": 3
   },
   "file_extension": ".py",
   "mimetype": "text/x-python",
   "name": "python",
   "nbconvert_exporter": "python",
   "pygments_lexer": "ipython3",
   "version": "3.11.5"
  },
  "orig_nbformat": 4
 },
 "nbformat": 4,
 "nbformat_minor": 2
}
